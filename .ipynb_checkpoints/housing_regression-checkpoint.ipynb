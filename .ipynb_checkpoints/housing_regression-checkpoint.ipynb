{
 "cells": [
  {
   "cell_type": "code",
   "execution_count": 1,
   "id": "71e547ce-8e8f-4989-bd96-154546b2d5de",
   "metadata": {},
   "outputs": [],
   "source": [
    "# inflation rates - https://www.usinflationcalculator.com/inflation/historical-inflation-rates/\n",
    "# real GDP per capita - https://fred.stlouisfed.org/series/A939RX0Q048SBEA\n",
    "# NAHB/Wells Fargo Housing Market Index - https://www.nahb.org/news-and-economics/housing-economics/indices/housing-market-index"
   ]
  },
  {
   "cell_type": "code",
   "execution_count": 21,
   "id": "32061996-3836-41b1-a5a5-3d19de564c31",
   "metadata": {},
   "outputs": [],
   "source": [
    "import numpy as np\n",
    "import pandas as pd\n",
    "import matplotlib.pyplot as plt\n",
    "from sklearn import linear_model\n",
    "import statsmodels.api as sm\n",
    "import csv"
   ]
  },
  {
   "cell_type": "code",
   "execution_count": 22,
   "id": "41b19611",
   "metadata": {},
   "outputs": [],
   "source": [
    "dates = []\n",
    "for year in range(1985, 2022):\n",
    "    for month in range(1, 13):\n",
    "        dates.append(str(month) + '/' + str(year))\n",
    "df = pd.DataFrame({'Date':dates})\n",
    "\n",
    "interest_rates = []\n",
    "seen = set()\n",
    "with open('housing_regression_data/fed_interest.csv', newline='') as csvfile:\n",
    "    reader = csv.reader(csvfile, delimiter=',')\n",
    "    for row in reader:\n",
    "        if row[0][0].isdigit():\n",
    "            date = row[0].split('/')\n",
    "            if int(date[2]) >= 1985 and int(date[2]) <= 2021 and date[0] + '_' + date[2] not in seen and row[1] != 'ND':\n",
    "                interest_rates.append(float(row[1]))\n",
    "                seen.add(date[0] + '_' + date[2])\n",
    "                \n",
    "inflation_rates = []\n",
    "with open('housing_regression_data/inflation_rates.csv', newline='') as csvfile:\n",
    "    reader = csv.reader(csvfile, delimiter=',')\n",
    "    for row in reader:\n",
    "        if row[0].isdigit():\n",
    "            inflation_rates.extend(float(x) for x in row[1:len(row)-1])\n",
    "            \n",
    "nahb_index = []\n",
    "with open('housing_regression_data/t2-national-hmi-history-202203.csv', newline='') as csvfile:\n",
    "    reader = csv.reader(csvfile, delimiter=',')\n",
    "    for row in reader:\n",
    "        if row[0].isdigit() and int(row[0]) <= 2021:\n",
    "            nahb_index.extend(int(x) for x in row[1:len(row)])\n",
    "            \n",
    "price = [] # of houses sold? annual rate\n",
    "with open('housing_regression_data/houses_sold.csv', newline='') as csvfile:\n",
    "    reader = csv.reader(csvfile, delimiter=',')\n",
    "    for row in reader:\n",
    "        price.append(int(row[1]))\n",
    "        \n",
    "pc_gdp = []\n",
    "with open('housing_regression_data/real_gdppc.csv', newline='') as csvfile:\n",
    "    reader = csv.reader(csvfile, delimiter=',')\n",
    "    for row in reader:\n",
    "        if row[0][0].isdigit():\n",
    "            pc_gdp.extend([int(row[1]), int(row[1]), int(row[1])])\n",
    "        \n",
    "df['Interest_Rate'] = interest_rates\n",
    "df['Inflation_Rate'] = inflation_rates\n",
    "df['Real_GDP_per_capita'] = np.log(pc_gdp)\n",
    "df['NAHB_Index'] = nahb_index\n",
    "df['Price'] = np.log(price)"
   ]
  },
  {
   "cell_type": "code",
   "execution_count": 23,
   "id": "509ceb79",
   "metadata": {},
   "outputs": [
    {
     "name": "stdout",
     "output_type": "stream",
     "text": [
      "0      11.495779\n",
      "1      11.474185\n",
      "2      11.521885\n",
      "3      11.558854\n",
      "4      11.493743\n",
      "         ...    \n",
      "439    13.060488\n",
      "440    13.061764\n",
      "441    13.097456\n",
      "442    13.093964\n",
      "443    13.086322\n",
      "Name: Price, Length: 444, dtype: float64\n"
     ]
    },
    {
     "data": {
      "image/png": "[encoded data removed]",
      "text/plain": [
       "<Figure size 432x288 with 1 Axes>"
      ]
     },
     "metadata": {
      "needs_background": "light"
     },
     "output_type": "display_data"
    }
   ],
   "source": [
    "# histogram plot# histogram plot\n",
    "print(df['Price'])\n",
    "plt.hist(df['Price'])\n",
    "plt.show()"
   ]
  },
  {
   "cell_type": "code",
   "execution_count": 5,
   "id": "1dc537c0",
   "metadata": {
    "scrolled": true
   },
   "outputs": [
    {
     "data": {
      "text/html": [
       "<div>\n",
       "<style scoped>\n",
       "    .dataframe tbody tr th:only-of-type {\n",
       "        vertical-align: middle;\n",
       "    }\n",
       "\n",
       "    .dataframe tbody tr th {\n",
       "        vertical-align: top;\n",
       "    }\n",
       "\n",
       "    .dataframe thead th {\n",
       "        text-align: right;\n",
       "    }\n",
       "</style>\n",
       "<table border=\"1\" class=\"dataframe\">\n",
       "  <thead>\n",
       "    <tr style=\"text-align: right;\">\n",
       "      <th></th>\n",
       "      <th>Date</th>\n",
       "      <th>Interest_Rate</th>\n",
       "      <th>Inflation_Rate</th>\n",
       "      <th>Real_GDP_per_capita</th>\n",
       "      <th>NAHB_Index</th>\n",
       "      <th>Price</th>\n",
       "    </tr>\n",
       "  </thead>\n",
       "  <tbody>\n",
       "    <tr>\n",
       "      <th>0</th>\n",
       "      <td>1/1985</td>\n",
       "      <td>11.70</td>\n",
       "      <td>3.5</td>\n",
       "      <td>10.402473</td>\n",
       "      <td>50</td>\n",
       "      <td>11.495779</td>\n",
       "    </tr>\n",
       "    <tr>\n",
       "      <th>1</th>\n",
       "      <td>2/1985</td>\n",
       "      <td>11.29</td>\n",
       "      <td>3.5</td>\n",
       "      <td>10.402473</td>\n",
       "      <td>58</td>\n",
       "      <td>11.474185</td>\n",
       "    </tr>\n",
       "    <tr>\n",
       "      <th>2</th>\n",
       "      <td>3/1985</td>\n",
       "      <td>11.86</td>\n",
       "      <td>3.7</td>\n",
       "      <td>10.402473</td>\n",
       "      <td>54</td>\n",
       "      <td>11.521885</td>\n",
       "    </tr>\n",
       "    <tr>\n",
       "      <th>3</th>\n",
       "      <td>4/1985</td>\n",
       "      <td>11.66</td>\n",
       "      <td>3.7</td>\n",
       "      <td>10.409130</td>\n",
       "      <td>49</td>\n",
       "      <td>11.558854</td>\n",
       "    </tr>\n",
       "    <tr>\n",
       "      <th>4</th>\n",
       "      <td>5/1985</td>\n",
       "      <td>11.27</td>\n",
       "      <td>3.8</td>\n",
       "      <td>10.409130</td>\n",
       "      <td>51</td>\n",
       "      <td>11.493743</td>\n",
       "    </tr>\n",
       "    <tr>\n",
       "      <th>...</th>\n",
       "      <td>...</td>\n",
       "      <td>...</td>\n",
       "      <td>...</td>\n",
       "      <td>...</td>\n",
       "      <td>...</td>\n",
       "      <td>...</td>\n",
       "    </tr>\n",
       "    <tr>\n",
       "      <th>439</th>\n",
       "      <td>8/2021</td>\n",
       "      <td>1.20</td>\n",
       "      <td>5.3</td>\n",
       "      <td>10.978814</td>\n",
       "      <td>75</td>\n",
       "      <td>6.504288</td>\n",
       "    </tr>\n",
       "    <tr>\n",
       "      <th>440</th>\n",
       "      <td>9/2021</td>\n",
       "      <td>1.31</td>\n",
       "      <td>5.4</td>\n",
       "      <td>10.978814</td>\n",
       "      <td>76</td>\n",
       "      <td>6.586172</td>\n",
       "    </tr>\n",
       "    <tr>\n",
       "      <th>441</th>\n",
       "      <td>10/2021</td>\n",
       "      <td>1.48</td>\n",
       "      <td>6.2</td>\n",
       "      <td>10.994840</td>\n",
       "      <td>80</td>\n",
       "      <td>6.502790</td>\n",
       "    </tr>\n",
       "    <tr>\n",
       "      <th>442</th>\n",
       "      <td>11/2021</td>\n",
       "      <td>1.58</td>\n",
       "      <td>6.8</td>\n",
       "      <td>10.994840</td>\n",
       "      <td>83</td>\n",
       "      <td>6.618739</td>\n",
       "    </tr>\n",
       "    <tr>\n",
       "      <th>443</th>\n",
       "      <td>12/2021</td>\n",
       "      <td>1.43</td>\n",
       "      <td>7.0</td>\n",
       "      <td>10.994840</td>\n",
       "      <td>84</td>\n",
       "      <td>6.732211</td>\n",
       "    </tr>\n",
       "  </tbody>\n",
       "</table>\n",
       "<p>444 rows × 6 columns</p>\n",
       "</div>"
      ],
      "text/plain": [
       "        Date  Interest_Rate  Inflation_Rate  Real_GDP_per_capita  NAHB_Index  \\\n",
       "0     1/1985          11.70             3.5            10.402473          50   \n",
       "1     2/1985          11.29             3.5            10.402473          58   \n",
       "2     3/1985          11.86             3.7            10.402473          54   \n",
       "3     4/1985          11.66             3.7            10.409130          49   \n",
       "4     5/1985          11.27             3.8            10.409130          51   \n",
       "..       ...            ...             ...                  ...         ...   \n",
       "439   8/2021           1.20             5.3            10.978814          75   \n",
       "440   9/2021           1.31             5.4            10.978814          76   \n",
       "441  10/2021           1.48             6.2            10.994840          80   \n",
       "442  11/2021           1.58             6.8            10.994840          83   \n",
       "443  12/2021           1.43             7.0            10.994840          84   \n",
       "\n",
       "         Price  \n",
       "0    11.495779  \n",
       "1    11.474185  \n",
       "2    11.521885  \n",
       "3    11.558854  \n",
       "4    11.493743  \n",
       "..         ...  \n",
       "439   6.504288  \n",
       "440   6.586172  \n",
       "441   6.502790  \n",
       "442   6.618739  \n",
       "443   6.732211  \n",
       "\n",
       "[444 rows x 6 columns]"
      ]
     },
     "execution_count": 5,
     "metadata": {},
     "output_type": "execute_result"
    }
   ],
   "source": [
    "df"
   ]
  },
  {
   "cell_type": "code",
   "execution_count": 24,
   "id": "faeed7d6",
   "metadata": {
    "scrolled": true
   },
   "outputs": [
    {
     "data": {
      "image/png": "[encoded data removed]",
      "text/plain": [
       "<Figure size 432x288 with 1 Axes>"
      ]
     },
     "metadata": {
      "needs_background": "light"
     },
     "output_type": "display_data"
    }
   ],
   "source": [
    "# check linearity\n",
    "plt.scatter(df['Interest_Rate'], df['Price'], color='red')\n",
    "plt.title('Price Vs Interest Rate', fontsize=14)\n",
    "plt.xlabel('Interest Rate', fontsize=14)\n",
    "plt.ylabel('Price', fontsize=14)\n",
    "plt.show()"
   ]
  },
  {
   "cell_type": "code",
   "execution_count": 25,
   "id": "cc320cd0",
   "metadata": {},
   "outputs": [
    {
     "data": {
      "image/png": "[encoded data removed]",
      "text/plain": [
       "<Figure size 432x288 with 1 Axes>"
      ]
     },
     "metadata": {
      "needs_background": "light"
     },
     "output_type": "display_data"
    }
   ],
   "source": [
    "plt.scatter(df['NAHB_Index'], df['Price'], color='red')\n",
    "plt.title('Price Vs NAHB Index', fontsize=14)\n",
    "plt.xlabel('NAHB Index', fontsize=14)\n",
    "plt.ylabel('Price', fontsize=14)\n",
    "plt.tick_params(left=False, bottom=False)\n",
    "plt.show()"
   ]
  },
  {
   "cell_type": "code",
   "execution_count": 26,
   "id": "f76032d4",
   "metadata": {},
   "outputs": [
    {
     "data": {
      "image/png": "[encoded data removed]",
      "text/plain": [
       "<Figure size 432x288 with 1 Axes>"
      ]
     },
     "metadata": {
      "needs_background": "light"
     },
     "output_type": "display_data"
    }
   ],
   "source": [
    "plt.scatter(df['Inflation_Rate'], df['Price'], color='red')\n",
    "plt.title('Price Vs Inflation Rate', fontsize=14)\n",
    "plt.xlabel('Interest Rate', fontsize=14)\n",
    "plt.ylabel('Price', fontsize=14)\n",
    "plt.tick_params(left=False, bottom=False)\n",
    "plt.show()"
   ]
  },
  {
   "cell_type": "code",
   "execution_count": 27,
   "id": "745daf5e",
   "metadata": {},
   "outputs": [
    {
     "data": {
      "image/png": "[encoded data removed]",
      "text/plain": [
       "<Figure size 432x288 with 1 Axes>"
      ]
     },
     "metadata": {
      "needs_background": "light"
     },
     "output_type": "display_data"
    }
   ],
   "source": [
    "plt.scatter(df['Real_GDP_per_capita'], df['Price'], color='red')\n",
    "plt.title('Price Vs PC GDP', fontsize=14)\n",
    "plt.xlabel('Interest Rate', fontsize=14)\n",
    "plt.ylabel('PC GDP', fontsize=14)\n",
    "plt.tick_params(left=False, bottom=False)\n",
    "plt.show()"
   ]
  },
  {
   "cell_type": "code",
   "execution_count": 28,
   "id": "08238e8c",
   "metadata": {},
   "outputs": [
    {
     "data": {
      "text/html": [
       "<div>\n",
       "<style scoped>\n",
       "    .dataframe tbody tr th:only-of-type {\n",
       "        vertical-align: middle;\n",
       "    }\n",
       "\n",
       "    .dataframe tbody tr th {\n",
       "        vertical-align: top;\n",
       "    }\n",
       "\n",
       "    .dataframe thead th {\n",
       "        text-align: right;\n",
       "    }\n",
       "</style>\n",
       "<table border=\"1\" class=\"dataframe\">\n",
       "  <thead>\n",
       "    <tr style=\"text-align: right;\">\n",
       "      <th></th>\n",
       "      <th>Interest_Rate</th>\n",
       "      <th>Inflation_Rate</th>\n",
       "      <th>Real_GDP_per_capita</th>\n",
       "      <th>NAHB_Index</th>\n",
       "      <th>Price</th>\n",
       "    </tr>\n",
       "  </thead>\n",
       "  <tbody>\n",
       "    <tr>\n",
       "      <th>Interest_Rate</th>\n",
       "      <td>1.000000</td>\n",
       "      <td>0.508303</td>\n",
       "      <td>-0.932497</td>\n",
       "      <td>-0.053880</td>\n",
       "      <td>-0.922693</td>\n",
       "    </tr>\n",
       "    <tr>\n",
       "      <th>Inflation_Rate</th>\n",
       "      <td>0.508303</td>\n",
       "      <td>1.000000</td>\n",
       "      <td>-0.380514</td>\n",
       "      <td>-0.039229</td>\n",
       "      <td>-0.341365</td>\n",
       "    </tr>\n",
       "    <tr>\n",
       "      <th>Real_GDP_per_capita</th>\n",
       "      <td>-0.932497</td>\n",
       "      <td>-0.380514</td>\n",
       "      <td>1.000000</td>\n",
       "      <td>0.064368</td>\n",
       "      <td>0.984074</td>\n",
       "    </tr>\n",
       "    <tr>\n",
       "      <th>NAHB_Index</th>\n",
       "      <td>-0.053880</td>\n",
       "      <td>-0.039229</td>\n",
       "      <td>0.064368</td>\n",
       "      <td>1.000000</td>\n",
       "      <td>0.077060</td>\n",
       "    </tr>\n",
       "    <tr>\n",
       "      <th>Price</th>\n",
       "      <td>-0.922693</td>\n",
       "      <td>-0.341365</td>\n",
       "      <td>0.984074</td>\n",
       "      <td>0.077060</td>\n",
       "      <td>1.000000</td>\n",
       "    </tr>\n",
       "  </tbody>\n",
       "</table>\n",
       "</div>"
      ],
      "text/plain": [
       "                     Interest_Rate  Inflation_Rate  Real_GDP_per_capita  \\\n",
       "Interest_Rate             1.000000        0.508303            -0.932497   \n",
       "Inflation_Rate            0.508303        1.000000            -0.380514   \n",
       "Real_GDP_per_capita      -0.932497       -0.380514             1.000000   \n",
       "NAHB_Index               -0.053880       -0.039229             0.064368   \n",
       "Price                    -0.922693       -0.341365             0.984074   \n",
       "\n",
       "                     NAHB_Index     Price  \n",
       "Interest_Rate         -0.053880 -0.922693  \n",
       "Inflation_Rate        -0.039229 -0.341365  \n",
       "Real_GDP_per_capita    0.064368  0.984074  \n",
       "NAHB_Index             1.000000  0.077060  \n",
       "Price                  0.077060  1.000000  "
      ]
     },
     "execution_count": 28,
     "metadata": {},
     "output_type": "execute_result"
    }
   ],
   "source": [
    "df.corr(method ='pearson')"
   ]
  },
  {
   "cell_type": "code",
   "execution_count": 76,
   "id": "c8a9f072",
   "metadata": {},
   "outputs": [],
   "source": [
    "def run_regression(X, Y, lag=0, dummy=False):\n",
    "    if lag > 0:\n",
    "        X['Interest_Rate'] = X['Interest_Rate'].shift(periods=lag)\n",
    "    if dummy:\n",
    "        pd.concat([X, pd.get_dummies(df['Date'])], axis=1)\n",
    "    \n",
    "    X = sm.add_constant(X) \n",
    "    model = sm.OLS(Y[lag:].astype(float), X[lag:].astype(float)).fit()\n",
    "    # predictions = model.predict(X) \n",
    "    print_model = model.summary()\n",
    "    print(print_model)"
   ]
  },
  {
   "cell_type": "code",
   "execution_count": 77,
   "id": "07b532d3",
   "metadata": {},
   "outputs": [
    {
     "name": "stdout",
     "output_type": "stream",
     "text": [
      "                            OLS Regression Results                            \n",
      "==============================================================================\n",
      "Dep. Variable:                  Price   R-squared:                       0.874\n",
      "Model:                            OLS   Adj. R-squared:                  0.873\n",
      "Method:                 Least Squares   F-statistic:                     1019.\n",
      "Date:                Sun, 20 Mar 2022   Prob (F-statistic):          1.34e-197\n",
      "Time:                        01:55:04   Log-Likelihood:                 236.97\n",
      "No. Observations:                 444   AIC:                            -465.9\n",
      "Df Residuals:                     440   BIC:                            -449.6\n",
      "Df Model:                           3                                         \n",
      "Covariance Type:            nonrobust                                         \n",
      "==================================================================================\n",
      "                     coef    std err          t      P>|t|      [0.025      0.975]\n",
      "----------------------------------------------------------------------------------\n",
      "const             12.9564      0.026    490.433      0.000      12.904      13.008\n",
      "Interest_Rate     -0.1621      0.003    -51.340      0.000      -0.168      -0.156\n",
      "Inflation_Rate     0.0502      0.006      8.789      0.000       0.039       0.061\n",
      "NAHB_Index         0.0007      0.000      1.740      0.082   -8.54e-05       0.001\n",
      "==============================================================================\n",
      "Omnibus:                        2.857   Durbin-Watson:                   0.206\n",
      "Prob(Omnibus):                  0.240   Jarque-Bera (JB):                2.803\n",
      "Skew:                          -0.195   Prob(JB):                        0.246\n",
      "Kurtosis:                       2.990   Cond. No.                         216.\n",
      "==============================================================================\n",
      "\n",
      "Notes:\n",
      "[1] Standard Errors assume that the covariance matrix of the errors is correctly specified.\n",
      "                            OLS Regression Results                            \n",
      "==============================================================================\n",
      "Dep. Variable:                  Price   R-squared:                       0.878\n",
      "Model:                            OLS   Adj. R-squared:                  0.877\n",
      "Method:                 Least Squares   F-statistic:                     1047.\n",
      "Date:                Sun, 20 Mar 2022   Prob (F-statistic):          4.84e-199\n",
      "Time:                        01:55:04   Log-Likelihood:                 246.91\n",
      "No. Observations:                 441   AIC:                            -485.8\n",
      "Df Residuals:                     437   BIC:                            -469.5\n",
      "Df Model:                           3                                         \n",
      "Covariance Type:            nonrobust                                         \n",
      "==================================================================================\n",
      "                     coef    std err          t      P>|t|      [0.025      0.975]\n",
      "----------------------------------------------------------------------------------\n",
      "const             13.0048      0.026    497.907      0.000      12.953      13.056\n",
      "Interest_Rate     -0.1599      0.003    -52.130      0.000      -0.166      -0.154\n",
      "Inflation_Rate     0.0447      0.006      8.105      0.000       0.034       0.055\n",
      "NAHB_Index     -1.207e-05      0.000     -0.033      0.974      -0.001       0.001\n",
      "==============================================================================\n",
      "Omnibus:                        2.824   Durbin-Watson:                   0.226\n",
      "Prob(Omnibus):                  0.244   Jarque-Bera (JB):                2.904\n",
      "Skew:                          -0.183   Prob(JB):                        0.234\n",
      "Kurtosis:                       2.846   Cond. No.                         219.\n",
      "==============================================================================\n",
      "\n",
      "Notes:\n",
      "[1] Standard Errors assume that the covariance matrix of the errors is correctly specified.\n",
      "                            OLS Regression Results                            \n",
      "==============================================================================\n",
      "Dep. Variable:                  Price   R-squared:                       0.970\n",
      "Model:                            OLS   Adj. R-squared:                  0.970\n",
      "Method:                 Least Squares   F-statistic:                     4724.\n",
      "Date:                Sun, 20 Mar 2022   Prob (F-statistic):               0.00\n",
      "Time:                        01:55:04   Log-Likelihood:                 554.38\n",
      "No. Observations:                 444   AIC:                            -1101.\n",
      "Df Residuals:                     440   BIC:                            -1084.\n",
      "Df Model:                           3                                         \n",
      "Covariance Type:            nonrobust                                         \n",
      "=======================================================================================\n",
      "                          coef    std err          t      P>|t|      [0.025      0.975]\n",
      "---------------------------------------------------------------------------------------\n",
      "const                 -13.7486      0.236    -58.244      0.000     -14.213     -13.285\n",
      "Real_GDP_per_capita     2.4251      0.022    111.398      0.000       2.382       2.468\n",
      "Inflation_Rate          0.0113      0.003      4.352      0.000       0.006       0.016\n",
      "NAHB_Index              0.0003      0.000      1.731      0.084   -4.36e-05       0.001\n",
      "==============================================================================\n",
      "Omnibus:                        2.354   Durbin-Watson:                   0.389\n",
      "Prob(Omnibus):                  0.308   Jarque-Bera (JB):                2.250\n",
      "Skew:                          -0.174   Prob(JB):                        0.325\n",
      "Kurtosis:                       3.024   Cond. No.                     4.01e+03\n",
      "==============================================================================\n",
      "\n",
      "Notes:\n",
      "[1] Standard Errors assume that the covariance matrix of the errors is correctly specified.\n",
      "[2] The condition number is large, 4.01e+03. This might indicate that there are\n",
      "strong multicollinearity or other numerical problems.\n"
     ]
    },
    {
     "name": "stderr",
     "output_type": "stream",
     "text": [
      "C:\\ProgramData\\Anaconda3\\lib\\site-packages\\statsmodels\\tsa\\tsatools.py:142: FutureWarning: In a future version of pandas all arguments of concat except for the argument 'objs' will be keyword-only.\n",
      "  x = pd.concat(x[::order], 1)\n",
      "C:\\Users\\diudi\\AppData\\Local\\Temp\\ipykernel_46936\\2472033433.py:3: SettingWithCopyWarning: \n",
      "A value is trying to be set on a copy of a slice from a DataFrame.\n",
      "Try using .loc[row_indexer,col_indexer] = value instead\n",
      "\n",
      "See the caveats in the documentation: https://pandas.pydata.org/pandas-docs/stable/user_guide/indexing.html#returning-a-view-versus-a-copy\n",
      "  X['Interest_Rate'] = X['Interest_Rate'].shift(periods=lag)\n",
      "C:\\ProgramData\\Anaconda3\\lib\\site-packages\\statsmodels\\tsa\\tsatools.py:142: FutureWarning: In a future version of pandas all arguments of concat except for the argument 'objs' will be keyword-only.\n",
      "  x = pd.concat(x[::order], 1)\n",
      "C:\\ProgramData\\Anaconda3\\lib\\site-packages\\statsmodels\\tsa\\tsatools.py:142: FutureWarning: In a future version of pandas all arguments of concat except for the argument 'objs' will be keyword-only.\n",
      "  x = pd.concat(x[::order], 1)\n"
     ]
    }
   ],
   "source": [
    "# without lag\n",
    "X = df[['Interest_Rate', 'Inflation_Rate', 'NAHB_Index']]\n",
    "Y = df['Price']\n",
    "run_regression(X, Y)\n",
    "\n",
    "# with lag\n",
    "X = df[['Interest_Rate', 'Inflation_Rate', 'NAHB_Index']]\n",
    "Y = df['Price']\n",
    "run_regression(X, Y, lag=3)\n",
    "\n",
    "# with lag\n",
    "X = df[['Real_GDP_per_capita', 'Inflation_Rate', 'NAHB_Index']]\n",
    "Y = df['Price']\n",
    "run_regression(X, Y)\n",
    "\n",
    "# # with lag\n",
    "# X = df[['Interest_Rate', 'Inflation_Rate', 'NAHB_Index']]\n",
    "# Y = df['Price']\n",
    "# run_regression(X, Y, lag=3, dummy=True)"
   ]
  },
  {
   "cell_type": "code",
   "execution_count": null,
   "id": "01d72afd",
   "metadata": {},
   "outputs": [],
   "source": []
  }
 ],
 "metadata": {
  "kernelspec": {
   "display_name": "Python 3 (ipykernel)",
   "language": "python",
   "name": "python3"
  },
  "language_info": {
   "codemirror_mode": {
    "name": "ipython",
    "version": 3
   },
   "file_extension": ".py",
   "mimetype": "text/x-python",
   "name": "python",
   "nbconvert_exporter": "python",
   "pygments_lexer": "ipython3",
   "version": "3.8.8"
  }
 },
 "nbformat": 4,
 "nbformat_minor": 5
}
